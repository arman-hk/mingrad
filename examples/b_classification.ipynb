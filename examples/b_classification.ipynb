{
 "cells": [
  {
   "cell_type": "markdown",
   "id": "12fbbe31",
   "metadata": {},
   "source": [
    "# mingrad binary classification on breast cancer dataset"
   ]
  },
  {
   "cell_type": "code",
   "execution_count": 1,
   "id": "7237a889",
   "metadata": {
    "scrolled": true
   },
   "outputs": [],
   "source": [
    "import sys\n",
    "sys.path.append('../')"
   ]
  },
  {
   "cell_type": "code",
   "execution_count": 2,
   "id": "3b254f78",
   "metadata": {},
   "outputs": [],
   "source": [
    "import numpy as np\n",
    "from sklearn.datasets import load_breast_cancer\n",
    "from sklearn.model_selection import train_test_split\n",
    "from sklearn.preprocessing import StandardScaler\n",
    "from sklearn.metrics import confusion_matrix\n",
    "import seaborn as sns\n",
    "from mingrad.engine import Value\n",
    "from mingrad.nn import Linear, Sequential, MSE, SGD, Sigmoid\n",
    "import matplotlib.pyplot as plt"
   ]
  },
  {
   "cell_type": "markdown",
   "id": "6354f48e",
   "metadata": {},
   "source": [
    "### data"
   ]
  },
  {
   "cell_type": "code",
   "execution_count": 3,
   "id": "9ac3cfe4",
   "metadata": {},
   "outputs": [],
   "source": [
    "data = load_breast_cancer()\n",
    "x, y = data.data, data.target\n",
    "y = y.reshape(-1, 1)\n",
    "\n",
    "# split\n",
    "x_train, x_test, y_train, y_test = train_test_split(x, y, test_size=0.2, random_state=42)\n",
    "\n",
    "# scale\n",
    "scaler = StandardScaler()\n",
    "x_train = scaler.fit_transform(x_train)\n",
    "x_test = scaler.transform(x_test)\n",
    "\n",
    "# Value\n",
    "n_features = x_train.shape[1]\n",
    "x_train, y_train, x_test = Value(x_train), Value(y_train), Value(x_test)"
   ]
  },
  {
   "cell_type": "markdown",
   "id": "d95b2ec2",
   "metadata": {},
   "source": [
    "### logistic regression model"
   ]
  },
  {
   "cell_type": "code",
   "execution_count": 4,
   "id": "05539303",
   "metadata": {},
   "outputs": [],
   "source": [
    "model = Sequential(\n",
    "    Linear(n_features, 1),\n",
    "    Sigmoid()\n",
    ")"
   ]
  },
  {
   "cell_type": "markdown",
   "id": "2d6be390",
   "metadata": {},
   "source": [
    "### optimizer and loss function"
   ]
  },
  {
   "cell_type": "code",
   "execution_count": 5,
   "id": "30c5a2a1",
   "metadata": {},
   "outputs": [],
   "source": [
    "optimizer = SGD(model.parameters(), lr=0.9)\n",
    "loss_func = MSE()"
   ]
  },
  {
   "cell_type": "markdown",
   "id": "a3058dba",
   "metadata": {},
   "source": [
    "### training loop"
   ]
  },
  {
   "cell_type": "code",
   "execution_count": 6,
   "id": "6665fc6b",
   "metadata": {
    "scrolled": true
   },
   "outputs": [
    {
     "name": "stdout",
     "output_type": "stream",
     "text": [
      "Epoch 1, Loss: 0.16119821359605166\n",
      "Epoch 2, Loss: 0.15782162414469672\n",
      "Epoch 3, Loss: 0.1550773913470013\n",
      "Epoch 4, Loss: 0.15285094025511786\n",
      "Epoch 5, Loss: 0.15104624576533468\n",
      "Epoch 6, Loss: 0.14958388339555975\n",
      "Epoch 7, Loss: 0.1483987695225135\n",
      "Epoch 8, Loss: 0.14743791615615748\n",
      "Epoch 9, Loss: 0.14665837017795633\n",
      "Epoch 10, Loss: 0.14602540914402443\n",
      "Epoch 11, Loss: 0.14551100883255808\n",
      "Epoch 12, Loss: 0.14509256760262268\n",
      "Epoch 13, Loss: 0.144751858942455\n",
      "Epoch 14, Loss: 0.14447417932573578\n",
      "Epoch 15, Loss: 0.14424765924511107\n",
      "Epoch 16, Loss: 0.1440627084069971\n",
      "Epoch 17, Loss: 0.14391157004716237\n",
      "Epoch 18, Loss: 0.14378796336222777\n",
      "Epoch 19, Loss: 0.14368679676146487\n",
      "Epoch 20, Loss: 0.14360393787273543\n",
      "Epoch 21, Loss: 0.1435360289571313\n",
      "Epoch 22, Loss: 0.14348033863097778\n",
      "Epoch 23, Loss: 0.1434346426190602\n",
      "Epoch 24, Loss: 0.1433971277335708\n",
      "Epoch 25, Loss: 0.14336631445089695\n",
      "Epoch 26, Loss: 0.14334099439761847\n",
      "Epoch 27, Loss: 0.14332017980442716\n",
      "Epoch 28, Loss: 0.14330306258062267\n",
      "Epoch 29, Loss: 0.14328898113370103\n",
      "Epoch 30, Loss: 0.14327739343354118\n",
      "Epoch 31, Loss: 0.1432678551189278\n",
      "Epoch 32, Loss: 0.14326000168159825\n",
      "Epoch 33, Loss: 0.14325353395231227\n",
      "Epoch 34, Loss: 0.1432482062646057\n",
      "Epoch 35, Loss: 0.14324381679278167\n",
      "Epoch 36, Loss: 0.14324019965754914\n",
      "Epoch 37, Loss: 0.14323721847043944\n",
      "Epoch 38, Loss: 0.14323476105061483\n",
      "Epoch 39, Loss: 0.14323273509799236\n",
      "Epoch 40, Loss: 0.14323106464718607\n",
      "Epoch 41, Loss: 0.1432296871595514\n",
      "Epoch 42, Loss: 0.14322855113713803\n",
      "Epoch 43, Loss: 0.14322761416384552\n",
      "Epoch 44, Loss: 0.14322684129651475\n",
      "Epoch 45, Loss: 0.14322620374285097\n",
      "Epoch 46, Loss: 0.14322567777460013\n",
      "Epoch 47, Loss: 0.14322524383378132\n",
      "Epoch 48, Loss: 0.14322488579743012\n",
      "Epoch 49, Loss: 0.1432245903725522\n",
      "Epoch 50, Loss: 0.14322434659808336\n",
      "Epoch 51, Loss: 0.1432241454348246\n",
      "Epoch 52, Loss: 0.14322397942773105\n",
      "Epoch 53, Loss: 0.14322384242772782\n",
      "Epoch 54, Loss: 0.14322372936251407\n",
      "Epoch 55, Loss: 0.1432236360476944\n",
      "Epoch 56, Loss: 0.14322355903111655\n",
      "Epoch 57, Loss: 0.1432234954645571\n",
      "Epoch 58, Loss: 0.14322344299793585\n",
      "Epoch 59, Loss: 0.14322339969209374\n",
      "Epoch 60, Loss: 0.14322336394686666\n",
      "Epoch 61, Loss: 0.14322333444176827\n",
      "Epoch 62, Loss: 0.14322331008706557\n",
      "Epoch 63, Loss: 0.1432232899834237\n",
      "Epoch 64, Loss: 0.14322327338861587\n",
      "Epoch 65, Loss: 0.14322325969005992\n",
      "Epoch 66, Loss: 0.14322324838215988\n",
      "Epoch 67, Loss: 0.14322323904761133\n",
      "Epoch 68, Loss: 0.14322323134197537\n",
      "Epoch 69, Loss: 0.14322322498095014\n",
      "Epoch 70, Loss: 0.14322321972986715\n",
      "Epoch 71, Loss: 0.14322321539502272\n",
      "Epoch 72, Loss: 0.14322321181652506\n",
      "Epoch 73, Loss: 0.14322320886239015\n",
      "Epoch 74, Loss: 0.14322320642366954\n",
      "Epoch 75, Loss: 0.14322320441042868\n",
      "Epoch 76, Loss: 0.14322320274842812\n",
      "Epoch 77, Loss: 0.14322320137638353\n",
      "Epoch 78, Loss: 0.14322320024370483\n",
      "Epoch 79, Loss: 0.1432231993086295\n",
      "Epoch 80, Loss: 0.14322319853668225\n",
      "Epoch 81, Loss: 0.14322319789940297\n",
      "Epoch 82, Loss: 0.1432231973732974\n",
      "Epoch 83, Loss: 0.1432231969389702\n",
      "Epoch 84, Loss: 0.14322319658041022\n",
      "Epoch 85, Loss: 0.14322319628439947\n",
      "Epoch 86, Loss: 0.14322319604002617\n",
      "Epoch 87, Loss: 0.14322319583828214\n",
      "Epoch 88, Loss: 0.1432231956717308\n",
      "Epoch 89, Loss: 0.14322319553423288\n",
      "Epoch 90, Loss: 0.14322319542072012\n",
      "Epoch 91, Loss: 0.1432231953270085\n",
      "Epoch 92, Loss: 0.14322319524964383\n",
      "Epoch 93, Loss: 0.14322319518577453\n",
      "Epoch 94, Loss: 0.14322319513304643\n",
      "Epoch 95, Loss: 0.143223195089516\n",
      "Epoch 96, Loss: 0.14322319505357897\n",
      "Epoch 97, Loss: 0.1432231950239106\n",
      "Epoch 98, Loss: 0.14322319499941744\n",
      "Epoch 99, Loss: 0.1432231949791968\n",
      "Epoch 100, Loss: 0.14322319496250333\n"
     ]
    }
   ],
   "source": [
    "losses = []\n",
    "for epoch in range(100):\n",
    "    out = model(x_train)\n",
    "    loss = loss_func(out, y_train)\n",
    "    loss.backward()\n",
    "    optimizer.step()\n",
    "    print(f\"Epoch {epoch+1}, Loss: {loss.data}\")\n",
    "    losses.append(loss.data)"
   ]
  },
  {
   "cell_type": "markdown",
   "id": "eb6bb2c0",
   "metadata": {},
   "source": [
    "### loss curve"
   ]
  },
  {
   "cell_type": "code",
   "execution_count": 7,
   "id": "a8d23a4b",
   "metadata": {},
   "outputs": [
    {
     "data": {
      "image/png": "[encoded data removed]",
      "text/plain": [
       "<Figure size 480x320 with 1 Axes>"
      ]
     },
     "metadata": {},
     "output_type": "display_data"
    }
   ],
   "source": [
    "fig, ax = plt.subplots(figsize=(6, 4), dpi=80)\n",
    "\n",
    "ax.plot(losses, color='skyblue', linewidth=2)\n",
    "ax.set_title('Loss Curve', fontsize=16)\n",
    "ax.set_xlabel('Epoch', fontsize=14)\n",
    "ax.set_ylabel('MSE', fontsize=14)\n",
    "ax.grid(True)\n",
    "\n",
    "plt.show()"
   ]
  },
  {
   "cell_type": "markdown",
   "id": "8481e20b",
   "metadata": {},
   "source": [
    "### predict"
   ]
  },
  {
   "cell_type": "code",
   "execution_count": 8,
   "id": "e83c4071",
   "metadata": {},
   "outputs": [],
   "source": [
    "y_pred = model(x_test)\n",
    "y_pred_binary = (y_pred.data > 0.5).astype(float)"
   ]
  },
  {
   "cell_type": "markdown",
   "id": "f6d0a59d",
   "metadata": {},
   "source": [
    "### confusion matrix"
   ]
  },
  {
   "cell_type": "code",
   "execution_count": 9,
   "id": "07fcb3cd",
   "metadata": {
    "scrolled": false
   },
   "outputs": [
    {
     "data": {
      "image/png": "[encoded data removed]",
      "text/plain": [
       "<Figure size 600x600 with 2 Axes>"
      ]
     },
     "metadata": {},
     "output_type": "display_data"
    }
   ],
   "source": [
    "cm = confusion_matrix(y_test, y_pred_binary)\n",
    "plt.figure(figsize=(6,6))\n",
    "sns.heatmap(cm, annot=True, fmt=\"d\")\n",
    "plt.title('Confusion Matrix')\n",
    "plt.xlabel('Predicted')\n",
    "plt.ylabel('Actual')\n",
    "plt.show()"
   ]
  }
 ],
 "metadata": {
  "kernelspec": {
   "display_name": "Python 3 (ipykernel)",
   "language": "python",
   "name": "python3"
  },
  "language_info": {
   "codemirror_mode": {
    "name": "ipython",
    "version": 3
   },
   "file_extension": ".py",
   "mimetype": "text/x-python",
   "name": "python",
   "nbconvert_exporter": "python",
   "pygments_lexer": "ipython3",
   "version": "3.9.16"
  }
 },
 "nbformat": 4,
 "nbformat_minor": 5
}
